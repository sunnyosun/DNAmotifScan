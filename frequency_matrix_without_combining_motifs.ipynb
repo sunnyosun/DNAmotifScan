{
 "cells": [
  {
   "cell_type": "code",
   "execution_count": 1,
   "metadata": {},
   "outputs": [],
   "source": [
    "%load_ext autoreload\n",
    "%autoreload 2\n",
    "%aimport resultParser\n",
    "\n",
    "import pickle as pk\n",
    "\n",
    "import scanpy as sc\n",
    "from scipy.sparse import csr_matrix\n",
    "import pandas as pd\n",
    "\n",
    "from resultParser import ResultParser"
   ]
  },
  {
   "cell_type": "code",
   "execution_count": null,
   "metadata": {},
   "outputs": [],
   "source": [
    "raw_data = ResultParser.load_results(\"temp/outputs_2\", combine=False)"
   ]
  },
  {
   "cell_type": "code",
   "execution_count": null,
   "metadata": {},
   "outputs": [],
   "source": [
    "frqc_mat = ResultParser.frequency_matrix(raw_data=raw_data, combine_motifs=False)\n",
    "frqc_mat.head()"
   ]
  },
  {
   "cell_type": "code",
   "execution_count": 9,
   "metadata": {},
   "outputs": [],
   "source": [
    "ad = sc.AnnData(frqc_mat)\n",
    "ad.X = csr_matrix(ad.X)\n",
    "ad.obs['chr'] = [i.split('_')[0] for i in ad.obs.index]\n",
    "ad.obs['gene_id'] = [i.split('_')[3] for i in ad.obs.index]\n",
    "ad.obs['gene_name'] = [i.split('_')[4] for i in ad.obs.index]"
   ]
  },
  {
   "cell_type": "code",
   "execution_count": 10,
   "metadata": {},
   "outputs": [
    {
     "name": "stderr",
     "output_type": "stream",
     "text": [
      "... storing 'chr' as categorical\n",
      "... storing 'gene_id' as categorical\n",
      "... storing 'gene_name' as categorical\n"
     ]
    }
   ],
   "source": [
    "ad.write('outputs/motif_no_combine_frequencies.h5ad')"
   ]
  },
  {
   "cell_type": "code",
   "execution_count": null,
   "metadata": {},
   "outputs": [],
   "source": []
  }
 ],
 "metadata": {
  "kernelspec": {
   "display_name": "Python 3",
   "language": "python",
   "name": "python3"
  },
  "language_info": {
   "codemirror_mode": {
    "name": "ipython",
    "version": 3
   },
   "file_extension": ".py",
   "mimetype": "text/x-python",
   "name": "python",
   "nbconvert_exporter": "python",
   "pygments_lexer": "ipython3",
   "version": "3.6.9"
  }
 },
 "nbformat": 4,
 "nbformat_minor": 2
}
