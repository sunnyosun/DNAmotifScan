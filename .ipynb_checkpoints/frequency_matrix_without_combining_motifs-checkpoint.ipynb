{
 "cells": [
  {
   "cell_type": "code",
   "execution_count": 1,
   "metadata": {},
   "outputs": [],
   "source": [
    "%load_ext autoreload\n",
    "%autoreload 2\n",
    "%aimport resultParser\n",
    "\n",
    "import pickle as pk\n",
    "\n",
    "import scanpy as sc\n",
    "from scipy.sparse import csr_matrix\n",
    "import pandas as pd\n",
    "\n",
    "from resultParser import ResultParser"
   ]
  },
  {
   "cell_type": "code",
   "execution_count": 3,
   "metadata": {},
   "outputs": [
    {
     "name": "stderr",
     "output_type": "stream",
     "text": [
      "100%|██████████████████████████████████████████████████████████████████████████████████████████████████████████████████████████████████████████████████████████████████████████████████████████████████████████████████████| 500/500 [07:34<00:00,  1.10it/s]\n"
     ]
    }
   ],
   "source": [
    "raw_data = ResultParser.load_results(\"temp/outputs_2\", combine=False)"
   ]
  },
  {
   "cell_type": "code",
   "execution_count": 5,
   "metadata": {},
   "outputs": [
    {
     "name": "stdout",
     "output_type": "stream",
     "text": [
      "Generating matrix...\n"
     ]
    },
    {
     "name": "stderr",
     "output_type": "stream",
     "text": [
      "100%|████████████████████████████████████████████████████████████████████████████████████████████████████████████████████████████████████████████████████████████| 188702/188702 [02:19<00:00, 1351.69it/s]\n"
     ]
    }
   ],
   "source": [
    "frqc_mat = ResultParser.frequency_matrix(raw_data=raw_data, combine_motifs=False)"
   ]
  },
  {
   "cell_type": "code",
   "execution_count": 6,
   "metadata": {},
   "outputs": [],
   "source": [
    "del raw_data"
   ]
  },
  {
   "cell_type": "code",
   "execution_count": 8,
   "metadata": {},
   "outputs": [
    {
     "data": {
      "text/html": [
       "<div>\n",
       "<style scoped>\n",
       "    .dataframe tbody tr th:only-of-type {\n",
       "        vertical-align: middle;\n",
       "    }\n",
       "\n",
       "    .dataframe tbody tr th {\n",
       "        vertical-align: top;\n",
       "    }\n",
       "\n",
       "    .dataframe thead th {\n",
       "        text-align: right;\n",
       "    }\n",
       "</style>\n",
       "<table border=\"1\" class=\"dataframe\">\n",
       "  <thead>\n",
       "    <tr style=\"text-align: right;\">\n",
       "      <th></th>\n",
       "      <th>POU3F4_2</th>\n",
       "      <th>NFKB_disc4</th>\n",
       "      <th>FOXC1_6</th>\n",
       "      <th>CEBPG_3</th>\n",
       "      <th>MEOX2_1</th>\n",
       "      <th>POU3F1_3</th>\n",
       "      <th>NRL_1</th>\n",
       "      <th>POU4F1_1</th>\n",
       "      <th>ZNF143_known2</th>\n",
       "      <th>GBX2_4</th>\n",
       "      <th>...</th>\n",
       "      <th>FOXC1_2</th>\n",
       "      <th>ZSCAN16_1</th>\n",
       "      <th>OTX2_2</th>\n",
       "      <th>CLOCK_1</th>\n",
       "      <th>HNF4_known12</th>\n",
       "      <th>GBX2_3</th>\n",
       "      <th>SRY_6</th>\n",
       "      <th>EVX2_2</th>\n",
       "      <th>PITX2_1</th>\n",
       "      <th>FOXK1_2</th>\n",
       "    </tr>\n",
       "  </thead>\n",
       "  <tbody>\n",
       "    <tr>\n",
       "      <th>chr1_11869_+_ENSG00000223972_DDX11L1</th>\n",
       "      <td>0</td>\n",
       "      <td>0</td>\n",
       "      <td>0</td>\n",
       "      <td>0</td>\n",
       "      <td>0</td>\n",
       "      <td>0</td>\n",
       "      <td>0</td>\n",
       "      <td>0</td>\n",
       "      <td>0</td>\n",
       "      <td>0</td>\n",
       "      <td>...</td>\n",
       "      <td>8</td>\n",
       "      <td>0</td>\n",
       "      <td>0</td>\n",
       "      <td>0</td>\n",
       "      <td>0</td>\n",
       "      <td>0</td>\n",
       "      <td>0</td>\n",
       "      <td>1</td>\n",
       "      <td>0</td>\n",
       "      <td>0</td>\n",
       "    </tr>\n",
       "    <tr>\n",
       "      <th>chr1_12010_+_ENSG00000223972_DDX11L1</th>\n",
       "      <td>0</td>\n",
       "      <td>0</td>\n",
       "      <td>0</td>\n",
       "      <td>0</td>\n",
       "      <td>0</td>\n",
       "      <td>0</td>\n",
       "      <td>0</td>\n",
       "      <td>0</td>\n",
       "      <td>0</td>\n",
       "      <td>0</td>\n",
       "      <td>...</td>\n",
       "      <td>9</td>\n",
       "      <td>0</td>\n",
       "      <td>0</td>\n",
       "      <td>0</td>\n",
       "      <td>0</td>\n",
       "      <td>0</td>\n",
       "      <td>0</td>\n",
       "      <td>1</td>\n",
       "      <td>0</td>\n",
       "      <td>0</td>\n",
       "    </tr>\n",
       "    <tr>\n",
       "      <th>chr1_29570_-_ENSG00000227232_WASH7P</th>\n",
       "      <td>0</td>\n",
       "      <td>0</td>\n",
       "      <td>0</td>\n",
       "      <td>0</td>\n",
       "      <td>0</td>\n",
       "      <td>0</td>\n",
       "      <td>0</td>\n",
       "      <td>0</td>\n",
       "      <td>0</td>\n",
       "      <td>0</td>\n",
       "      <td>...</td>\n",
       "      <td>4</td>\n",
       "      <td>0</td>\n",
       "      <td>0</td>\n",
       "      <td>0</td>\n",
       "      <td>0</td>\n",
       "      <td>0</td>\n",
       "      <td>0</td>\n",
       "      <td>0</td>\n",
       "      <td>1</td>\n",
       "      <td>0</td>\n",
       "    </tr>\n",
       "    <tr>\n",
       "      <th>chr1_17436_-_ENSG00000278267_MIR6859-1</th>\n",
       "      <td>0</td>\n",
       "      <td>0</td>\n",
       "      <td>0</td>\n",
       "      <td>0</td>\n",
       "      <td>0</td>\n",
       "      <td>0</td>\n",
       "      <td>0</td>\n",
       "      <td>0</td>\n",
       "      <td>0</td>\n",
       "      <td>0</td>\n",
       "      <td>...</td>\n",
       "      <td>7</td>\n",
       "      <td>0</td>\n",
       "      <td>0</td>\n",
       "      <td>0</td>\n",
       "      <td>0</td>\n",
       "      <td>0</td>\n",
       "      <td>0</td>\n",
       "      <td>1</td>\n",
       "      <td>0</td>\n",
       "      <td>0</td>\n",
       "    </tr>\n",
       "    <tr>\n",
       "      <th>chr1_29554_+_ENSG00000243485_MIR1302-2HG</th>\n",
       "      <td>0</td>\n",
       "      <td>0</td>\n",
       "      <td>0</td>\n",
       "      <td>0</td>\n",
       "      <td>0</td>\n",
       "      <td>0</td>\n",
       "      <td>0</td>\n",
       "      <td>0</td>\n",
       "      <td>0</td>\n",
       "      <td>0</td>\n",
       "      <td>...</td>\n",
       "      <td>5</td>\n",
       "      <td>0</td>\n",
       "      <td>0</td>\n",
       "      <td>0</td>\n",
       "      <td>0</td>\n",
       "      <td>0</td>\n",
       "      <td>0</td>\n",
       "      <td>0</td>\n",
       "      <td>0</td>\n",
       "      <td>0</td>\n",
       "    </tr>\n",
       "  </tbody>\n",
       "</table>\n",
       "<p>5 rows × 2054 columns</p>\n",
       "</div>"
      ],
      "text/plain": [
       "                                          POU3F4_2  NFKB_disc4  FOXC1_6  \\\n",
       "chr1_11869_+_ENSG00000223972_DDX11L1             0           0        0   \n",
       "chr1_12010_+_ENSG00000223972_DDX11L1             0           0        0   \n",
       "chr1_29570_-_ENSG00000227232_WASH7P              0           0        0   \n",
       "chr1_17436_-_ENSG00000278267_MIR6859-1           0           0        0   \n",
       "chr1_29554_+_ENSG00000243485_MIR1302-2HG         0           0        0   \n",
       "\n",
       "                                          CEBPG_3  MEOX2_1  POU3F1_3  NRL_1  \\\n",
       "chr1_11869_+_ENSG00000223972_DDX11L1            0        0         0      0   \n",
       "chr1_12010_+_ENSG00000223972_DDX11L1            0        0         0      0   \n",
       "chr1_29570_-_ENSG00000227232_WASH7P             0        0         0      0   \n",
       "chr1_17436_-_ENSG00000278267_MIR6859-1          0        0         0      0   \n",
       "chr1_29554_+_ENSG00000243485_MIR1302-2HG        0        0         0      0   \n",
       "\n",
       "                                          POU4F1_1  ZNF143_known2  GBX2_4  \\\n",
       "chr1_11869_+_ENSG00000223972_DDX11L1             0              0       0   \n",
       "chr1_12010_+_ENSG00000223972_DDX11L1             0              0       0   \n",
       "chr1_29570_-_ENSG00000227232_WASH7P              0              0       0   \n",
       "chr1_17436_-_ENSG00000278267_MIR6859-1           0              0       0   \n",
       "chr1_29554_+_ENSG00000243485_MIR1302-2HG         0              0       0   \n",
       "\n",
       "                                          ...  FOXC1_2  ZSCAN16_1  OTX2_2  \\\n",
       "chr1_11869_+_ENSG00000223972_DDX11L1      ...        8          0       0   \n",
       "chr1_12010_+_ENSG00000223972_DDX11L1      ...        9          0       0   \n",
       "chr1_29570_-_ENSG00000227232_WASH7P       ...        4          0       0   \n",
       "chr1_17436_-_ENSG00000278267_MIR6859-1    ...        7          0       0   \n",
       "chr1_29554_+_ENSG00000243485_MIR1302-2HG  ...        5          0       0   \n",
       "\n",
       "                                          CLOCK_1  HNF4_known12  GBX2_3  \\\n",
       "chr1_11869_+_ENSG00000223972_DDX11L1            0             0       0   \n",
       "chr1_12010_+_ENSG00000223972_DDX11L1            0             0       0   \n",
       "chr1_29570_-_ENSG00000227232_WASH7P             0             0       0   \n",
       "chr1_17436_-_ENSG00000278267_MIR6859-1          0             0       0   \n",
       "chr1_29554_+_ENSG00000243485_MIR1302-2HG        0             0       0   \n",
       "\n",
       "                                          SRY_6  EVX2_2  PITX2_1  FOXK1_2  \n",
       "chr1_11869_+_ENSG00000223972_DDX11L1          0       1        0        0  \n",
       "chr1_12010_+_ENSG00000223972_DDX11L1          0       1        0        0  \n",
       "chr1_29570_-_ENSG00000227232_WASH7P           0       0        1        0  \n",
       "chr1_17436_-_ENSG00000278267_MIR6859-1        0       1        0        0  \n",
       "chr1_29554_+_ENSG00000243485_MIR1302-2HG      0       0        0        0  \n",
       "\n",
       "[5 rows x 2054 columns]"
      ]
     },
     "execution_count": 8,
     "metadata": {},
     "output_type": "execute_result"
    }
   ],
   "source": [
    "frqc_mat.head()"
   ]
  },
  {
   "cell_type": "code",
   "execution_count": 9,
   "metadata": {},
   "outputs": [],
   "source": [
    "ad = sc.AnnData(frqc_mat)\n",
    "ad.X = csr_matrix(ad.X)\n",
    "ad.obs['chr'] = [i.split('_')[0] for i in ad.obs.index]\n",
    "ad.obs['gene_id'] = [i.split('_')[3] for i in ad.obs.index]\n",
    "ad.obs['gene_name'] = [i.split('_')[4] for i in ad.obs.index]"
   ]
  },
  {
   "cell_type": "code",
   "execution_count": 10,
   "metadata": {},
   "outputs": [
    {
     "name": "stderr",
     "output_type": "stream",
     "text": [
      "... storing 'chr' as categorical\n",
      "... storing 'gene_id' as categorical\n",
      "... storing 'gene_name' as categorical\n"
     ]
    }
   ],
   "source": [
    "ad.write('outputs/motif_no_combine_frequencies.h5ad')"
   ]
  },
  {
   "cell_type": "code",
   "execution_count": null,
   "metadata": {},
   "outputs": [],
   "source": []
  }
 ],
 "metadata": {
  "kernelspec": {
   "display_name": "Python 3",
   "language": "python",
   "name": "python3"
  },
  "language_info": {
   "codemirror_mode": {
    "name": "ipython",
    "version": 3
   },
   "file_extension": ".py",
   "mimetype": "text/x-python",
   "name": "python",
   "nbconvert_exporter": "python",
   "pygments_lexer": "ipython3",
   "version": "3.6.9"
  }
 },
 "nbformat": 4,
 "nbformat_minor": 2
}
